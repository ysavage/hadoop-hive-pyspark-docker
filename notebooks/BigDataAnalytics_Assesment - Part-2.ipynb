{
 "cells": [
  {
   "cell_type": "markdown",
   "id": "9baf26bf",
   "metadata": {},
   "source": [
    "# Big Data Analytics Assessment \n",
    "---\n",
    "> Extract Data from Hive\n",
    "\n",
    "> Perform EDA and Prepare Data, and\n",
    "\n",
    "> Load for Advance Data Analysis / Machine Learning.\n",
    "___"
   ]
  },
  {
   "cell_type": "markdown",
   "id": "8a94f158-6e6f-45c9-8e20-fd0838eec394",
   "metadata": {},
   "source": [
    "1. **Extracting Data for Hive Data Base**"
   ]
  },
  {
   "cell_type": "code",
   "execution_count": 1,
   "id": "131c13bd",
   "metadata": {},
   "outputs": [],
   "source": [
    "# Instantiate PySpark Liberaries\n",
    "from pyspark.sql import SparkSession\n",
    "\n",
    "# Create Spark session with Hive support\n",
    "spark = SparkSession.builder \\\n",
    "    .appName(\"HiveIntegrationExample\") \\\n",
    "    .enableHiveSupport() \\\n",
    "    .getOrCreate()\n"
   ]
  },
  {
   "cell_type": "code",
   "execution_count": 2,
   "id": "bfa51510",
   "metadata": {},
   "outputs": [
    {
     "name": "stdout",
     "output_type": "stream",
     "text": [
      "+---------+\n",
      "|namespace|\n",
      "+---------+\n",
      "|  default|\n",
      "+---------+\n",
      "\n"
     ]
    }
   ],
   "source": [
    "# Showing Hive SQL databases\n",
    "df = spark.sql(\"SHOW DATABASES\")\n",
    "df.show()\n"
   ]
  }
 ],
 "metadata": {
  "kernelspec": {
   "display_name": "Python 3 (ipykernel)",
   "language": "python",
   "name": "python3"
  },
  "language_info": {
   "codemirror_mode": {
    "name": "ipython",
    "version": 3
   },
   "file_extension": ".py",
   "mimetype": "text/x-python",
   "name": "python",
   "nbconvert_exporter": "python",
   "pygments_lexer": "ipython3",
   "version": "3.11.6"
  }
 },
 "nbformat": 4,
 "nbformat_minor": 5
}
