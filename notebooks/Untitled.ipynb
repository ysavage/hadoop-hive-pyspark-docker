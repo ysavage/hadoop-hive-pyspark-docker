{
 "cells": [
  {
   "cell_type": "code",
   "execution_count": 1,
   "id": "6079ee99-a03e-483e-b393-a3d2c2574b90",
   "metadata": {},
   "outputs": [],
   "source": [
    "# Instantiate PySpark Liberaries\n",
    "from pyspark.sql import SparkSession\n",
    "\n",
    "# Create Spark session with Hive support\n",
    "spark = SparkSession.builder \\\n",
    "    .appName(\"HiveIntegrationExample\") \\\n",
    "    .enableHiveSupport() \\\n",
    "    .getOrCreate()"
   ]
  },
  {
   "cell_type": "code",
   "execution_count": 2,
   "id": "c3eeac14-e359-4601-87b6-377790ea24b7",
   "metadata": {},
   "outputs": [
    {
     "name": "stdout",
     "output_type": "stream",
     "text": [
      "+---------+\n",
      "|namespace|\n",
      "+---------+\n",
      "|  default|\n",
      "+---------+\n",
      "\n"
     ]
    }
   ],
   "source": [
    "# Showing Hive SQL databases\n",
    "df = spark.sql(\"SHOW DATABASES\")\n",
    "df.show()"
   ]
  }
 ],
 "metadata": {
  "kernelspec": {
   "display_name": "PySpark",
   "language": "python",
   "name": "pyspark"
  },
  "language_info": {
   "codemirror_mode": {
    "name": "ipython",
    "version": 3
   },
   "file_extension": ".py",
   "mimetype": "text/x-python",
   "name": "python",
   "nbconvert_exporter": "python",
   "pygments_lexer": "ipython3",
   "version": "3.11.6"
  }
 },
 "nbformat": 4,
 "nbformat_minor": 5
}
