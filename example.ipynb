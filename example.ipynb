{
 "cells": [
  {
   "cell_type": "markdown",
   "id": "9baf26bf",
   "metadata": {},
   "source": [
    "# PySpark + Hive Example"
   ]
  },
  {
   "cell_type": "code",
   "execution_count": null,
   "id": "131c13bd",
   "metadata": {},
   "outputs": [],
   "source": [
    "from pyspark.sql import SparkSession\n",
    "\n",
    "# Create Spark session with Hive support\n",
    "spark = SparkSession.builder \\\n",
    "    .appName(\"HiveIntegrationExample\") \\\n",
    "    .enableHiveSupport() \\\n",
    "    .getOrCreate()\n"
   ]
  },
  {
   "cell_type": "code",
   "execution_count": null,
   "id": "bfa51510",
   "metadata": {},
   "outputs": [],
   "source": [
    "# Run a Hive SQL query to show databases\n",
    "df = spark.sql(\"SHOW DATABASES\")\n",
    "df.show()\n"
   ]
  }
 ],
 "metadata": {},
 "nbformat": 4,
 "nbformat_minor": 5
}
